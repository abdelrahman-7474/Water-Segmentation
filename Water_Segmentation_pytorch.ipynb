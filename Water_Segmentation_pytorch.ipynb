{
  "nbformat": 4,
  "nbformat_minor": 0,
  "metadata": {
    "colab": {
      "provenance": [],
      "gpuType": "T4"
    },
    "kernelspec": {
      "name": "python3",
      "display_name": "Python 3"
    },
    "language_info": {
      "name": "python"
    },
    "accelerator": "GPU"
  },
  "cells": [
    {
      "cell_type": "code",
      "source": [
        "!pip install torchmetrics\n"
      ],
      "metadata": {
        "colab": {
          "base_uri": "https://localhost:8080/"
        },
        "id": "fISOndOnai4K",
        "outputId": "490c9e72-a759-43ad-b54f-5697e71353a2"
      },
      "execution_count": null,
      "outputs": [
        {
          "output_type": "stream",
          "name": "stdout",
          "text": [
            "Requirement already satisfied: torchmetrics in /usr/local/lib/python3.12/dist-packages (1.8.2)\n",
            "Requirement already satisfied: numpy>1.20.0 in /usr/local/lib/python3.12/dist-packages (from torchmetrics) (2.0.2)\n",
            "Requirement already satisfied: packaging>17.1 in /usr/local/lib/python3.12/dist-packages (from torchmetrics) (25.0)\n",
            "Requirement already satisfied: torch>=2.0.0 in /usr/local/lib/python3.12/dist-packages (from torchmetrics) (2.8.0+cu126)\n",
            "Requirement already satisfied: lightning-utilities>=0.8.0 in /usr/local/lib/python3.12/dist-packages (from torchmetrics) (0.15.2)\n",
            "Requirement already satisfied: setuptools in /usr/local/lib/python3.12/dist-packages (from lightning-utilities>=0.8.0->torchmetrics) (75.2.0)\n",
            "Requirement already satisfied: typing_extensions in /usr/local/lib/python3.12/dist-packages (from lightning-utilities>=0.8.0->torchmetrics) (4.15.0)\n",
            "Requirement already satisfied: filelock in /usr/local/lib/python3.12/dist-packages (from torch>=2.0.0->torchmetrics) (3.19.1)\n",
            "Requirement already satisfied: sympy>=1.13.3 in /usr/local/lib/python3.12/dist-packages (from torch>=2.0.0->torchmetrics) (1.13.3)\n",
            "Requirement already satisfied: networkx in /usr/local/lib/python3.12/dist-packages (from torch>=2.0.0->torchmetrics) (3.5)\n",
            "Requirement already satisfied: jinja2 in /usr/local/lib/python3.12/dist-packages (from torch>=2.0.0->torchmetrics) (3.1.6)\n",
            "Requirement already satisfied: fsspec in /usr/local/lib/python3.12/dist-packages (from torch>=2.0.0->torchmetrics) (2025.3.0)\n",
            "Requirement already satisfied: nvidia-cuda-nvrtc-cu12==12.6.77 in /usr/local/lib/python3.12/dist-packages (from torch>=2.0.0->torchmetrics) (12.6.77)\n",
            "Requirement already satisfied: nvidia-cuda-runtime-cu12==12.6.77 in /usr/local/lib/python3.12/dist-packages (from torch>=2.0.0->torchmetrics) (12.6.77)\n",
            "Requirement already satisfied: nvidia-cuda-cupti-cu12==12.6.80 in /usr/local/lib/python3.12/dist-packages (from torch>=2.0.0->torchmetrics) (12.6.80)\n",
            "Requirement already satisfied: nvidia-cudnn-cu12==9.10.2.21 in /usr/local/lib/python3.12/dist-packages (from torch>=2.0.0->torchmetrics) (9.10.2.21)\n",
            "Requirement already satisfied: nvidia-cublas-cu12==12.6.4.1 in /usr/local/lib/python3.12/dist-packages (from torch>=2.0.0->torchmetrics) (12.6.4.1)\n",
            "Requirement already satisfied: nvidia-cufft-cu12==11.3.0.4 in /usr/local/lib/python3.12/dist-packages (from torch>=2.0.0->torchmetrics) (11.3.0.4)\n",
            "Requirement already satisfied: nvidia-curand-cu12==10.3.7.77 in /usr/local/lib/python3.12/dist-packages (from torch>=2.0.0->torchmetrics) (10.3.7.77)\n",
            "Requirement already satisfied: nvidia-cusolver-cu12==11.7.1.2 in /usr/local/lib/python3.12/dist-packages (from torch>=2.0.0->torchmetrics) (11.7.1.2)\n",
            "Requirement already satisfied: nvidia-cusparse-cu12==12.5.4.2 in /usr/local/lib/python3.12/dist-packages (from torch>=2.0.0->torchmetrics) (12.5.4.2)\n",
            "Requirement already satisfied: nvidia-cusparselt-cu12==0.7.1 in /usr/local/lib/python3.12/dist-packages (from torch>=2.0.0->torchmetrics) (0.7.1)\n",
            "Requirement already satisfied: nvidia-nccl-cu12==2.27.3 in /usr/local/lib/python3.12/dist-packages (from torch>=2.0.0->torchmetrics) (2.27.3)\n",
            "Requirement already satisfied: nvidia-nvtx-cu12==12.6.77 in /usr/local/lib/python3.12/dist-packages (from torch>=2.0.0->torchmetrics) (12.6.77)\n",
            "Requirement already satisfied: nvidia-nvjitlink-cu12==12.6.85 in /usr/local/lib/python3.12/dist-packages (from torch>=2.0.0->torchmetrics) (12.6.85)\n",
            "Requirement already satisfied: nvidia-cufile-cu12==1.11.1.6 in /usr/local/lib/python3.12/dist-packages (from torch>=2.0.0->torchmetrics) (1.11.1.6)\n",
            "Requirement already satisfied: triton==3.4.0 in /usr/local/lib/python3.12/dist-packages (from torch>=2.0.0->torchmetrics) (3.4.0)\n",
            "Requirement already satisfied: mpmath<1.4,>=1.1.0 in /usr/local/lib/python3.12/dist-packages (from sympy>=1.13.3->torch>=2.0.0->torchmetrics) (1.3.0)\n",
            "Requirement already satisfied: MarkupSafe>=2.0 in /usr/local/lib/python3.12/dist-packages (from jinja2->torch>=2.0.0->torchmetrics) (3.0.2)\n"
          ]
        }
      ]
    },
    {
      "cell_type": "code",
      "execution_count": null,
      "metadata": {
        "id": "Qh1K3pWksseK"
      },
      "outputs": [],
      "source": [
        "from google.colab import drive\n",
        "import os\n",
        "from PIL import Image\n",
        "import tifffile\n",
        "import numpy as np"
      ]
    },
    {
      "cell_type": "code",
      "source": [
        "# torch\n",
        "from torchvision import datasets, transforms\n",
        "from torch.utils.data import DataLoader , Dataset,random_split\n",
        "import torch\n",
        "import torch.nn as nn\n",
        "import torch.nn.functional as F\n",
        "from torchmetrics.functional import jaccard_index\n",
        "import torch.optim as optim"
      ],
      "metadata": {
        "id": "phhW4W89vsBD"
      },
      "execution_count": null,
      "outputs": []
    },
    {
      "cell_type": "code",
      "source": [
        "drive.mount('/content/drive')"
      ],
      "metadata": {
        "colab": {
          "base_uri": "https://localhost:8080/"
        },
        "id": "3E_SahV_tM4o",
        "outputId": "fb37be1f-02b7-4304-8d1e-501cd1f1e532"
      },
      "execution_count": null,
      "outputs": [
        {
          "output_type": "stream",
          "name": "stdout",
          "text": [
            "Drive already mounted at /content/drive; to attempt to forcibly remount, call drive.mount(\"/content/drive\", force_remount=True).\n"
          ]
        }
      ]
    },
    {
      "cell_type": "code",
      "source": [
        "class SegmentationDataset(Dataset):\n",
        "  def __init__(self, image_paths, mask_paths, transform,target_transform):\n",
        "    self.image_folder = image_paths\n",
        "    self.mask_folder = mask_paths\n",
        "    self.transform = transform\n",
        "    self.target_transform = target_transform\n",
        "    self.images = sorted(os.listdir(self.image_folder))\n",
        "    self.masks = sorted(os.listdir(self.mask_folder))\n",
        "  def __len__(self):\n",
        "    return len(self.images)\n",
        "\n",
        "  def __getitem__(self, idx):\n",
        "    image_path = os.path.join(self.image_folder, self.images[idx])\n",
        "    mask_path = os.path.join(self.mask_folder, self.masks[idx])\n",
        "\n",
        "    image= tifffile.imread(image_path)\n",
        "    mask=Image.open(mask_path)\n",
        "\n",
        "    if self.transform:\n",
        "            image = self.transform(image)\n",
        "    if self.target_transform:\n",
        "            mask = torch.from_numpy(np.array(mask)).float()\n",
        "\n",
        "    return image ,mask"
      ],
      "metadata": {
        "id": "snaehvecwFYc"
      },
      "execution_count": null,
      "outputs": []
    },
    {
      "cell_type": "code",
      "source": [
        "images_path=\"/content/drive/MyDrive/data/images\"\n",
        "mask_path=\"/content/drive/MyDrive/data/labels\""
      ],
      "metadata": {
        "id": "67MhJodKyvmb"
      },
      "execution_count": null,
      "outputs": []
    },
    {
      "cell_type": "code",
      "source": [
        "transfer = transforms.Compose(\n",
        "    [\n",
        "        transforms.ToTensor(),\n",
        "    ]\n",
        ")\n",
        "mask_transfer=transforms.Compose(\n",
        "    [\n",
        "        transforms.ToTensor(),\n",
        "    ]\n",
        ")"
      ],
      "metadata": {
        "id": "SjJ1bLd-zNb4"
      },
      "execution_count": null,
      "outputs": []
    },
    {
      "cell_type": "code",
      "source": [
        "SegmentationDataset=SegmentationDataset(images_path,mask_path,transfer,mask_transfer)"
      ],
      "metadata": {
        "id": "ZGcr0WRpzZzI"
      },
      "execution_count": null,
      "outputs": []
    },
    {
      "cell_type": "code",
      "source": [
        "img,mask=SegmentationDataset[0]"
      ],
      "metadata": {
        "id": "KzcIgP3F2wIh"
      },
      "execution_count": null,
      "outputs": []
    },
    {
      "cell_type": "code",
      "source": [
        "print(img.shape)\n",
        "print(mask.shape)"
      ],
      "metadata": {
        "colab": {
          "base_uri": "https://localhost:8080/"
        },
        "id": "9biCY82kH4SL",
        "outputId": "20d59673-3b1a-4916-ff9e-a12c65eee423"
      },
      "execution_count": null,
      "outputs": [
        {
          "output_type": "stream",
          "name": "stdout",
          "text": [
            "torch.Size([12, 128, 128])\n",
            "torch.Size([128, 128])\n"
          ]
        }
      ]
    },
    {
      "cell_type": "code",
      "source": [
        "print(f\"dataset number of sample = {len(SegmentationDataset)}\")"
      ],
      "metadata": {
        "colab": {
          "base_uri": "https://localhost:8080/"
        },
        "id": "YNlF9bt3J5mc",
        "outputId": "c0037875-c264-4acb-fdc0-48ab3005123c"
      },
      "execution_count": null,
      "outputs": [
        {
          "output_type": "stream",
          "name": "stdout",
          "text": [
            "dataset number of sample = 306\n"
          ]
        }
      ]
    },
    {
      "cell_type": "markdown",
      "source": [
        "### Split data"
      ],
      "metadata": {
        "id": "GufKlMf9LWfU"
      }
    },
    {
      "cell_type": "code",
      "source": [
        "train_size = int(0.8 * len(SegmentationDataset))\n",
        "val_size=int(0.1 * len(SegmentationDataset))\n",
        "test_size  = len(SegmentationDataset) - train_size - val_size\n",
        "\n",
        "train_dataset,val_dataset,test_dataset = random_split(SegmentationDataset, [train_size,val_size,test_size])\n"
      ],
      "metadata": {
        "id": "By63BNpkK--O"
      },
      "execution_count": null,
      "outputs": []
    },
    {
      "cell_type": "code",
      "source": [
        "print(f\"size of train dataset is {len(train_dataset)}\")\n",
        "print(f\"size of val dataset is {len(val_dataset)}\")\n",
        "print(f\"size of test dataset is {len(test_dataset)}\")"
      ],
      "metadata": {
        "colab": {
          "base_uri": "https://localhost:8080/"
        },
        "id": "EL4OrEBaL-1b",
        "outputId": "fac3589b-0f48-4e1a-dc74-3e4656b66cad"
      },
      "execution_count": null,
      "outputs": [
        {
          "output_type": "stream",
          "name": "stdout",
          "text": [
            "size of train dataset is 244\n",
            "size of val dataset is 30\n",
            "size of test dataset is 32\n"
          ]
        }
      ]
    },
    {
      "cell_type": "code",
      "source": [
        "train_loader = DataLoader(train_dataset, batch_size=8, shuffle=True)\n",
        "val_loader   = DataLoader(val_dataset, batch_size=8, shuffle=False)\n",
        "test_loader  = DataLoader(test_dataset, batch_size=8, shuffle=False)"
      ],
      "metadata": {
        "id": "ST3vMXwVMPru"
      },
      "execution_count": null,
      "outputs": []
    },
    {
      "cell_type": "markdown",
      "source": [
        "### our model Unet"
      ],
      "metadata": {
        "id": "xq47Ng0uM28x"
      }
    },
    {
      "cell_type": "markdown",
      "source": [
        "![Unet.jpg](data:image/jpeg;base64,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)"
      ],
      "metadata": {
        "id": "wXZJ7zBcNW7f"
      }
    },
    {
      "cell_type": "code",
      "source": [
        "class UNet(nn.Module):\n",
        "    def __init__(self, in_channels=12, out_channels=1):\n",
        "        super().__init__()\n",
        "\n",
        "        # Encoder\n",
        "        self.down1 = nn.Sequential(\n",
        "            nn.Conv2d(in_channels=in_channels, out_channels=64, kernel_size=3, stride=1, padding=1), nn.ReLU(),\n",
        "            nn.Conv2d(in_channels=64, out_channels=64, kernel_size=3, stride=1, padding=1), nn.ReLU()\n",
        "        )\n",
        "        self.pool1 = nn.MaxPool2d(kernel_size=2, stride=2)\n",
        "\n",
        "        self.down2 = nn.Sequential(\n",
        "            nn.Conv2d(in_channels=64, out_channels=128, kernel_size=3, stride=1, padding=1), nn.ReLU(),\n",
        "            nn.Conv2d(in_channels=128, out_channels=128, kernel_size=3, stride=1, padding=1), nn.ReLU()\n",
        "        )\n",
        "        self.pool2 = nn.MaxPool2d(kernel_size=2, stride=2)\n",
        "\n",
        "        self.down3 = nn.Sequential(\n",
        "            nn.Conv2d(in_channels=128, out_channels=256, kernel_size=3, stride=1, padding=1), nn.ReLU(),\n",
        "            nn.Conv2d(in_channels=256, out_channels=256, kernel_size=3, stride=1, padding=1), nn.ReLU()\n",
        "        )\n",
        "        self.pool3 = nn.MaxPool2d(kernel_size=2, stride=2)\n",
        "\n",
        "        self.down4 = nn.Sequential(\n",
        "            nn.Conv2d(in_channels=256, out_channels=512, kernel_size=3, stride=1, padding=1), nn.ReLU(),\n",
        "            nn.Conv2d(in_channels=512, out_channels=512, kernel_size=3, stride=1, padding=1), nn.ReLU()\n",
        "        )\n",
        "        self.pool4 = nn.MaxPool2d(kernel_size=2, stride=2)\n",
        "\n",
        "        # Bottleneck\n",
        "        self.bottleneck = nn.Sequential(\n",
        "            nn.Conv2d(in_channels=512, out_channels=1024, kernel_size=3, stride=1, padding=1), nn.ReLU(),\n",
        "            nn.Conv2d(in_channels=1024, out_channels=1024, kernel_size=3, stride=1, padding=1), nn.ReLU()\n",
        "        )\n",
        "\n",
        "        # Decoder\n",
        "        self.up_trans1 = nn.ConvTranspose2d(in_channels=1024, out_channels=512, kernel_size=2, stride=2)\n",
        "        self.up1 = nn.Sequential(\n",
        "            nn.Conv2d(in_channels=512+512, out_channels=512, kernel_size=3, stride=1, padding=1), nn.ReLU(),\n",
        "            nn.Conv2d(in_channels=512, out_channels=512, kernel_size=3, stride=1, padding=1), nn.ReLU()\n",
        "        )\n",
        "\n",
        "        self.up_trans2 = nn.ConvTranspose2d(in_channels=512, out_channels=256, kernel_size=2, stride=2)\n",
        "        self.up2 = nn.Sequential(\n",
        "            nn.Conv2d(in_channels=256+256, out_channels=256, kernel_size=3, stride=1, padding=1), nn.ReLU(),\n",
        "            nn.Conv2d(in_channels=256, out_channels=256, kernel_size=3, stride=1, padding=1), nn.ReLU()\n",
        "        )\n",
        "\n",
        "        self.up_trans3 = nn.ConvTranspose2d(in_channels=256, out_channels=128, kernel_size=2, stride=2)\n",
        "        self.up3 = nn.Sequential(\n",
        "            nn.Conv2d(in_channels=128+128, out_channels=128, kernel_size=3, stride=1, padding=1), nn.ReLU(),\n",
        "            nn.Conv2d(in_channels=128, out_channels=128, kernel_size=3, stride=1, padding=1), nn.ReLU()\n",
        "        )\n",
        "\n",
        "        self.up_trans4 = nn.ConvTranspose2d(in_channels=128, out_channels=64, kernel_size=2, stride=2)\n",
        "        self.up4 = nn.Sequential(\n",
        "            nn.Conv2d(in_channels=64+64, out_channels=64, kernel_size=3, stride=1, padding=1), nn.ReLU(),\n",
        "            nn.Conv2d(in_channels=64, out_channels=64, kernel_size=3, stride=1, padding=1), nn.ReLU()\n",
        "        )\n",
        "\n",
        "        # Output\n",
        "        self.out = nn.Conv2d(in_channels=64, out_channels=out_channels, kernel_size=1, stride=1)\n",
        "\n",
        "    def forward(self, x):\n",
        "        # Encoder\n",
        "        x1 = self.down1(x)\n",
        "        x2 = self.down2(self.pool1(x1))\n",
        "        x3 = self.down3(self.pool2(x2))\n",
        "        x4 = self.down4(self.pool3(x3))\n",
        "        x5 = self.bottleneck(self.pool4(x4))\n",
        "\n",
        "        # Decoder\n",
        "        x = self.up_trans1(x5)\n",
        "        x = torch.cat([x, x4], dim=1)\n",
        "        x = self.up1(x)\n",
        "\n",
        "        x = self.up_trans2(x)\n",
        "        x = torch.cat([x, x3], dim=1)\n",
        "        x = self.up2(x)\n",
        "\n",
        "        x = self.up_trans3(x)\n",
        "        x = torch.cat([x, x2], dim=1)\n",
        "        x = self.up3(x)\n",
        "\n",
        "        x = self.up_trans4(x)\n",
        "        x = torch.cat([x, x1], dim=1)\n",
        "        x = self.up4(x)\n",
        "\n",
        "        return self.out(x)\n"
      ],
      "metadata": {
        "id": "fSZb1w9_Mszf"
      },
      "execution_count": null,
      "outputs": []
    },
    {
      "cell_type": "code",
      "source": [
        "def train(num_epochs):\n",
        "    device = torch.device(\"cuda\" if torch.cuda.is_available() else \"cpu\")\n",
        "    model = UNet()\n",
        "    criterion = nn.BCEWithLogitsLoss()\n",
        "    optimizer = optim.Adam(model.parameters(), lr=0.001)\n",
        "\n",
        "    model.to(device)\n",
        "\n",
        "    for epoch in range(num_epochs):\n",
        "        # ------------------ TRAIN ------------------\n",
        "        model.train()\n",
        "        train_total_loss = 0\n",
        "        train_ious = []\n",
        "\n",
        "        for inputs, targets in train_loader:\n",
        "            inputs, targets = inputs.to(device).float(), targets.to(device).float().unsqueeze(1)\n",
        "\n",
        "            optimizer.zero_grad()\n",
        "            outputs = model(inputs)\n",
        "            loss = criterion(outputs, targets)\n",
        "            loss.backward()\n",
        "            optimizer.step()\n",
        "\n",
        "            train_total_loss += loss.item()\n",
        "\n",
        "            preds = torch.sigmoid(outputs)\n",
        "            preds_bin = (preds > 0.5).float()\n",
        "            train_iou = jaccard_index(preds_bin, targets.int(), task=\"binary\")\n",
        "            train_ious.append(train_iou.item())\n",
        "\n",
        "        avg_train_loss = train_total_loss / len(train_loader)\n",
        "        avg_train_iou = sum(train_ious) / len(train_ious)\n",
        "\n",
        "        # ------------------ VALIDATION ------------------\n",
        "        model.eval()\n",
        "        val_total_loss = 0\n",
        "        val_ious = []\n",
        "\n",
        "        with torch.no_grad():\n",
        "            for inputs, targets in val_loader:\n",
        "                inputs, targets = inputs.to(device).float(), targets.to(device).float().unsqueeze(1)\n",
        "\n",
        "                outputs = model(inputs)\n",
        "                loss = criterion(outputs, targets)\n",
        "                val_total_loss += loss.item()\n",
        "\n",
        "                preds = torch.sigmoid(outputs)\n",
        "                preds_bin = (preds > 0.5).float()\n",
        "                val_iou = jaccard_index(preds_bin, targets.int(), task=\"binary\")\n",
        "                val_ious.append(val_iou.item())\n",
        "\n",
        "        avg_val_loss = val_total_loss / len(val_loader)\n",
        "        avg_val_iou = sum(val_ious) / len(val_ious)\n",
        "\n",
        "        print(f\"Epoch [{epoch+1}/{num_epochs}]\")\n",
        "        print(f\"  Train Loss: {avg_train_loss:.4f} | IoU: {avg_train_iou:.4f}\")\n",
        "        print(f\"  Val   Loss: {avg_val_loss:.4f} | IoU: {avg_val_iou:.4f}\")\n"
      ],
      "metadata": {
        "id": "v4z9n5xAUc-2"
      },
      "execution_count": null,
      "outputs": []
    },
    {
      "cell_type": "code",
      "source": [
        "train(50)"
      ],
      "metadata": {
        "colab": {
          "base_uri": "https://localhost:8080/",
          "height": 443
        },
        "id": "J0MDchD9cbt7",
        "outputId": "7bc05307-8e64-4c5d-a8ef-64079d874bc2"
      },
      "execution_count": null,
      "outputs": [
        {
          "output_type": "stream",
          "name": "stdout",
          "text": [
            "Epoch [1/50]\n",
            "  Train Loss: 2.0802 | IoU: 0.0673\n",
            "  Val   Loss: 0.6558 | IoU: 0.0213\n",
            "Epoch [2/50]\n",
            "  Train Loss: 0.6761 | IoU: 0.0291\n",
            "  Val   Loss: 0.6784 | IoU: 0.0001\n",
            "Epoch [3/50]\n",
            "  Train Loss: 0.6472 | IoU: 0.0031\n",
            "  Val   Loss: 0.6581 | IoU: 0.0006\n"
          ]
        },
        {
          "output_type": "error",
          "ename": "KeyboardInterrupt",
          "evalue": "",
          "traceback": [
            "\u001b[0;31m---------------------------------------------------------------------------\u001b[0m",
            "\u001b[0;31mKeyboardInterrupt\u001b[0m                         Traceback (most recent call last)",
            "\u001b[0;32m/tmp/ipython-input-3224605335.py\u001b[0m in \u001b[0;36m<cell line: 0>\u001b[0;34m()\u001b[0m\n\u001b[0;32m----> 1\u001b[0;31m \u001b[0mtrain\u001b[0m\u001b[0;34m(\u001b[0m\u001b[0;36m50\u001b[0m\u001b[0;34m)\u001b[0m\u001b[0;34m\u001b[0m\u001b[0;34m\u001b[0m\u001b[0m\n\u001b[0m",
            "\u001b[0;32m/tmp/ipython-input-1714323475.py\u001b[0m in \u001b[0;36mtrain\u001b[0;34m(num_epochs)\u001b[0m\n\u001b[1;32m     13\u001b[0m         \u001b[0mtrain_ious\u001b[0m \u001b[0;34m=\u001b[0m \u001b[0;34m[\u001b[0m\u001b[0;34m]\u001b[0m\u001b[0;34m\u001b[0m\u001b[0;34m\u001b[0m\u001b[0m\n\u001b[1;32m     14\u001b[0m \u001b[0;34m\u001b[0m\u001b[0m\n\u001b[0;32m---> 15\u001b[0;31m         \u001b[0;32mfor\u001b[0m \u001b[0minputs\u001b[0m\u001b[0;34m,\u001b[0m \u001b[0mtargets\u001b[0m \u001b[0;32min\u001b[0m \u001b[0mtrain_loader\u001b[0m\u001b[0;34m:\u001b[0m\u001b[0;34m\u001b[0m\u001b[0;34m\u001b[0m\u001b[0m\n\u001b[0m\u001b[1;32m     16\u001b[0m             \u001b[0minputs\u001b[0m\u001b[0;34m,\u001b[0m \u001b[0mtargets\u001b[0m \u001b[0;34m=\u001b[0m \u001b[0minputs\u001b[0m\u001b[0;34m.\u001b[0m\u001b[0mto\u001b[0m\u001b[0;34m(\u001b[0m\u001b[0mdevice\u001b[0m\u001b[0;34m)\u001b[0m\u001b[0;34m.\u001b[0m\u001b[0mfloat\u001b[0m\u001b[0;34m(\u001b[0m\u001b[0;34m)\u001b[0m\u001b[0;34m,\u001b[0m \u001b[0mtargets\u001b[0m\u001b[0;34m.\u001b[0m\u001b[0mto\u001b[0m\u001b[0;34m(\u001b[0m\u001b[0mdevice\u001b[0m\u001b[0;34m)\u001b[0m\u001b[0;34m.\u001b[0m\u001b[0mfloat\u001b[0m\u001b[0;34m(\u001b[0m\u001b[0;34m)\u001b[0m\u001b[0;34m.\u001b[0m\u001b[0munsqueeze\u001b[0m\u001b[0;34m(\u001b[0m\u001b[0;36m1\u001b[0m\u001b[0;34m)\u001b[0m\u001b[0;34m\u001b[0m\u001b[0;34m\u001b[0m\u001b[0m\n\u001b[1;32m     17\u001b[0m \u001b[0;34m\u001b[0m\u001b[0m\n",
            "\u001b[0;32m/usr/local/lib/python3.12/dist-packages/torch/utils/data/dataloader.py\u001b[0m in \u001b[0;36m__next__\u001b[0;34m(self)\u001b[0m\n\u001b[1;32m    732\u001b[0m                 \u001b[0;31m# TODO(https://github.com/pytorch/pytorch/issues/76750)\u001b[0m\u001b[0;34m\u001b[0m\u001b[0;34m\u001b[0m\u001b[0m\n\u001b[1;32m    733\u001b[0m                 \u001b[0mself\u001b[0m\u001b[0;34m.\u001b[0m\u001b[0m_reset\u001b[0m\u001b[0;34m(\u001b[0m\u001b[0;34m)\u001b[0m  \u001b[0;31m# type: ignore[call-arg]\u001b[0m\u001b[0;34m\u001b[0m\u001b[0;34m\u001b[0m\u001b[0m\n\u001b[0;32m--> 734\u001b[0;31m             \u001b[0mdata\u001b[0m \u001b[0;34m=\u001b[0m \u001b[0mself\u001b[0m\u001b[0;34m.\u001b[0m\u001b[0m_next_data\u001b[0m\u001b[0;34m(\u001b[0m\u001b[0;34m)\u001b[0m\u001b[0;34m\u001b[0m\u001b[0;34m\u001b[0m\u001b[0m\n\u001b[0m\u001b[1;32m    735\u001b[0m             \u001b[0mself\u001b[0m\u001b[0;34m.\u001b[0m\u001b[0m_num_yielded\u001b[0m \u001b[0;34m+=\u001b[0m \u001b[0;36m1\u001b[0m\u001b[0;34m\u001b[0m\u001b[0;34m\u001b[0m\u001b[0m\n\u001b[1;32m    736\u001b[0m             if (\n",
            "\u001b[0;32m/usr/local/lib/python3.12/dist-packages/torch/utils/data/dataloader.py\u001b[0m in \u001b[0;36m_next_data\u001b[0;34m(self)\u001b[0m\n\u001b[1;32m    788\u001b[0m     \u001b[0;32mdef\u001b[0m \u001b[0m_next_data\u001b[0m\u001b[0;34m(\u001b[0m\u001b[0mself\u001b[0m\u001b[0;34m)\u001b[0m\u001b[0;34m:\u001b[0m\u001b[0;34m\u001b[0m\u001b[0;34m\u001b[0m\u001b[0m\n\u001b[1;32m    789\u001b[0m         \u001b[0mindex\u001b[0m \u001b[0;34m=\u001b[0m \u001b[0mself\u001b[0m\u001b[0;34m.\u001b[0m\u001b[0m_next_index\u001b[0m\u001b[0;34m(\u001b[0m\u001b[0;34m)\u001b[0m  \u001b[0;31m# may raise StopIteration\u001b[0m\u001b[0;34m\u001b[0m\u001b[0;34m\u001b[0m\u001b[0m\n\u001b[0;32m--> 790\u001b[0;31m         \u001b[0mdata\u001b[0m \u001b[0;34m=\u001b[0m \u001b[0mself\u001b[0m\u001b[0;34m.\u001b[0m\u001b[0m_dataset_fetcher\u001b[0m\u001b[0;34m.\u001b[0m\u001b[0mfetch\u001b[0m\u001b[0;34m(\u001b[0m\u001b[0mindex\u001b[0m\u001b[0;34m)\u001b[0m  \u001b[0;31m# may raise StopIteration\u001b[0m\u001b[0;34m\u001b[0m\u001b[0;34m\u001b[0m\u001b[0m\n\u001b[0m\u001b[1;32m    791\u001b[0m         \u001b[0;32mif\u001b[0m \u001b[0mself\u001b[0m\u001b[0;34m.\u001b[0m\u001b[0m_pin_memory\u001b[0m\u001b[0;34m:\u001b[0m\u001b[0;34m\u001b[0m\u001b[0;34m\u001b[0m\u001b[0m\n\u001b[1;32m    792\u001b[0m             \u001b[0mdata\u001b[0m \u001b[0;34m=\u001b[0m \u001b[0m_utils\u001b[0m\u001b[0;34m.\u001b[0m\u001b[0mpin_memory\u001b[0m\u001b[0;34m.\u001b[0m\u001b[0mpin_memory\u001b[0m\u001b[0;34m(\u001b[0m\u001b[0mdata\u001b[0m\u001b[0;34m,\u001b[0m \u001b[0mself\u001b[0m\u001b[0;34m.\u001b[0m\u001b[0m_pin_memory_device\u001b[0m\u001b[0;34m)\u001b[0m\u001b[0;34m\u001b[0m\u001b[0;34m\u001b[0m\u001b[0m\n",
            "\u001b[0;32m/usr/local/lib/python3.12/dist-packages/torch/utils/data/_utils/fetch.py\u001b[0m in \u001b[0;36mfetch\u001b[0;34m(self, possibly_batched_index)\u001b[0m\n\u001b[1;32m     48\u001b[0m         \u001b[0;32mif\u001b[0m \u001b[0mself\u001b[0m\u001b[0;34m.\u001b[0m\u001b[0mauto_collation\u001b[0m\u001b[0;34m:\u001b[0m\u001b[0;34m\u001b[0m\u001b[0;34m\u001b[0m\u001b[0m\n\u001b[1;32m     49\u001b[0m             \u001b[0;32mif\u001b[0m \u001b[0mhasattr\u001b[0m\u001b[0;34m(\u001b[0m\u001b[0mself\u001b[0m\u001b[0;34m.\u001b[0m\u001b[0mdataset\u001b[0m\u001b[0;34m,\u001b[0m \u001b[0;34m\"__getitems__\"\u001b[0m\u001b[0;34m)\u001b[0m \u001b[0;32mand\u001b[0m \u001b[0mself\u001b[0m\u001b[0;34m.\u001b[0m\u001b[0mdataset\u001b[0m\u001b[0;34m.\u001b[0m\u001b[0m__getitems__\u001b[0m\u001b[0;34m:\u001b[0m\u001b[0;34m\u001b[0m\u001b[0;34m\u001b[0m\u001b[0m\n\u001b[0;32m---> 50\u001b[0;31m                 \u001b[0mdata\u001b[0m \u001b[0;34m=\u001b[0m \u001b[0mself\u001b[0m\u001b[0;34m.\u001b[0m\u001b[0mdataset\u001b[0m\u001b[0;34m.\u001b[0m\u001b[0m__getitems__\u001b[0m\u001b[0;34m(\u001b[0m\u001b[0mpossibly_batched_index\u001b[0m\u001b[0;34m)\u001b[0m\u001b[0;34m\u001b[0m\u001b[0;34m\u001b[0m\u001b[0m\n\u001b[0m\u001b[1;32m     51\u001b[0m             \u001b[0;32melse\u001b[0m\u001b[0;34m:\u001b[0m\u001b[0;34m\u001b[0m\u001b[0;34m\u001b[0m\u001b[0m\n\u001b[1;32m     52\u001b[0m                 \u001b[0mdata\u001b[0m \u001b[0;34m=\u001b[0m \u001b[0;34m[\u001b[0m\u001b[0mself\u001b[0m\u001b[0;34m.\u001b[0m\u001b[0mdataset\u001b[0m\u001b[0;34m[\u001b[0m\u001b[0midx\u001b[0m\u001b[0;34m]\u001b[0m \u001b[0;32mfor\u001b[0m \u001b[0midx\u001b[0m \u001b[0;32min\u001b[0m \u001b[0mpossibly_batched_index\u001b[0m\u001b[0;34m]\u001b[0m\u001b[0;34m\u001b[0m\u001b[0;34m\u001b[0m\u001b[0m\n",
            "\u001b[0;32m/usr/local/lib/python3.12/dist-packages/torch/utils/data/dataset.py\u001b[0m in \u001b[0;36m__getitems__\u001b[0;34m(self, indices)\u001b[0m\n\u001b[1;32m    414\u001b[0m             \u001b[0;32mreturn\u001b[0m \u001b[0mself\u001b[0m\u001b[0;34m.\u001b[0m\u001b[0mdataset\u001b[0m\u001b[0;34m.\u001b[0m\u001b[0m__getitems__\u001b[0m\u001b[0;34m(\u001b[0m\u001b[0;34m[\u001b[0m\u001b[0mself\u001b[0m\u001b[0;34m.\u001b[0m\u001b[0mindices\u001b[0m\u001b[0;34m[\u001b[0m\u001b[0midx\u001b[0m\u001b[0;34m]\u001b[0m \u001b[0;32mfor\u001b[0m \u001b[0midx\u001b[0m \u001b[0;32min\u001b[0m \u001b[0mindices\u001b[0m\u001b[0;34m]\u001b[0m\u001b[0;34m)\u001b[0m  \u001b[0;31m# type: ignore[attr-defined]\u001b[0m\u001b[0;34m\u001b[0m\u001b[0;34m\u001b[0m\u001b[0m\n\u001b[1;32m    415\u001b[0m         \u001b[0;32melse\u001b[0m\u001b[0;34m:\u001b[0m\u001b[0;34m\u001b[0m\u001b[0;34m\u001b[0m\u001b[0m\n\u001b[0;32m--> 416\u001b[0;31m             \u001b[0;32mreturn\u001b[0m \u001b[0;34m[\u001b[0m\u001b[0mself\u001b[0m\u001b[0;34m.\u001b[0m\u001b[0mdataset\u001b[0m\u001b[0;34m[\u001b[0m\u001b[0mself\u001b[0m\u001b[0;34m.\u001b[0m\u001b[0mindices\u001b[0m\u001b[0;34m[\u001b[0m\u001b[0midx\u001b[0m\u001b[0;34m]\u001b[0m\u001b[0;34m]\u001b[0m \u001b[0;32mfor\u001b[0m \u001b[0midx\u001b[0m \u001b[0;32min\u001b[0m \u001b[0mindices\u001b[0m\u001b[0;34m]\u001b[0m\u001b[0;34m\u001b[0m\u001b[0;34m\u001b[0m\u001b[0m\n\u001b[0m\u001b[1;32m    417\u001b[0m \u001b[0;34m\u001b[0m\u001b[0m\n\u001b[1;32m    418\u001b[0m     \u001b[0;32mdef\u001b[0m \u001b[0m__len__\u001b[0m\u001b[0;34m(\u001b[0m\u001b[0mself\u001b[0m\u001b[0;34m)\u001b[0m\u001b[0;34m:\u001b[0m\u001b[0;34m\u001b[0m\u001b[0;34m\u001b[0m\u001b[0m\n",
            "\u001b[0;32m/tmp/ipython-input-3745958185.py\u001b[0m in \u001b[0;36m__getitem__\u001b[0;34m(self, idx)\u001b[0m\n\u001b[1;32m     15\u001b[0m \u001b[0;34m\u001b[0m\u001b[0m\n\u001b[1;32m     16\u001b[0m     \u001b[0mimage\u001b[0m\u001b[0;34m=\u001b[0m \u001b[0mtifffile\u001b[0m\u001b[0;34m.\u001b[0m\u001b[0mimread\u001b[0m\u001b[0;34m(\u001b[0m\u001b[0mimage_path\u001b[0m\u001b[0;34m)\u001b[0m\u001b[0;34m\u001b[0m\u001b[0;34m\u001b[0m\u001b[0m\n\u001b[0;32m---> 17\u001b[0;31m     \u001b[0mmask\u001b[0m\u001b[0;34m=\u001b[0m\u001b[0mImage\u001b[0m\u001b[0;34m.\u001b[0m\u001b[0mopen\u001b[0m\u001b[0;34m(\u001b[0m\u001b[0mmask_path\u001b[0m\u001b[0;34m)\u001b[0m\u001b[0;34m\u001b[0m\u001b[0;34m\u001b[0m\u001b[0m\n\u001b[0m\u001b[1;32m     18\u001b[0m \u001b[0;34m\u001b[0m\u001b[0m\n\u001b[1;32m     19\u001b[0m     \u001b[0;32mif\u001b[0m \u001b[0mself\u001b[0m\u001b[0;34m.\u001b[0m\u001b[0mtransform\u001b[0m\u001b[0;34m:\u001b[0m\u001b[0;34m\u001b[0m\u001b[0;34m\u001b[0m\u001b[0m\n",
            "\u001b[0;32m/usr/local/lib/python3.12/dist-packages/PIL/Image.py\u001b[0m in \u001b[0;36mopen\u001b[0;34m(fp, mode, formats)\u001b[0m\n\u001b[1;32m   3511\u001b[0m     \u001b[0;32mif\u001b[0m \u001b[0mis_path\u001b[0m\u001b[0;34m(\u001b[0m\u001b[0mfp\u001b[0m\u001b[0;34m)\u001b[0m\u001b[0;34m:\u001b[0m\u001b[0;34m\u001b[0m\u001b[0;34m\u001b[0m\u001b[0m\n\u001b[1;32m   3512\u001b[0m         \u001b[0mfilename\u001b[0m \u001b[0;34m=\u001b[0m \u001b[0mos\u001b[0m\u001b[0;34m.\u001b[0m\u001b[0mfspath\u001b[0m\u001b[0;34m(\u001b[0m\u001b[0mfp\u001b[0m\u001b[0;34m)\u001b[0m\u001b[0;34m\u001b[0m\u001b[0;34m\u001b[0m\u001b[0m\n\u001b[0;32m-> 3513\u001b[0;31m         \u001b[0mfp\u001b[0m \u001b[0;34m=\u001b[0m \u001b[0mbuiltins\u001b[0m\u001b[0;34m.\u001b[0m\u001b[0mopen\u001b[0m\u001b[0;34m(\u001b[0m\u001b[0mfilename\u001b[0m\u001b[0;34m,\u001b[0m \u001b[0;34m\"rb\"\u001b[0m\u001b[0;34m)\u001b[0m\u001b[0;34m\u001b[0m\u001b[0;34m\u001b[0m\u001b[0m\n\u001b[0m\u001b[1;32m   3514\u001b[0m         \u001b[0mexclusive_fp\u001b[0m \u001b[0;34m=\u001b[0m \u001b[0;32mTrue\u001b[0m\u001b[0;34m\u001b[0m\u001b[0;34m\u001b[0m\u001b[0m\n\u001b[1;32m   3515\u001b[0m     \u001b[0;32melse\u001b[0m\u001b[0;34m:\u001b[0m\u001b[0;34m\u001b[0m\u001b[0;34m\u001b[0m\u001b[0m\n",
            "\u001b[0;31mKeyboardInterrupt\u001b[0m: "
          ]
        }
      ]
    }
  ]
}